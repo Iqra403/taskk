{
 "cells": [
  {
   "cell_type": "markdown",
   "metadata": {},
   "source": [
    "# HR Analytics: Employee Attrition Prediction\n",
    "\n",
    "This notebook performs EDA, builds classification models (Logistic Regression & Decision Tree), evaluates performance, and visualizes feature importance for HR attrition data."
   ]
  },
  {
   "cell_type": "code",
   "execution_count": 48,
   "metadata": {},
   "outputs": [],
   "source": [
    "# Import Libraries\n",
    "import pandas as pd\n",
    "import numpy as np\n",
    "import matplotlib.pyplot as plt\n",
    "import seaborn as sns\n",
    "from sklearn.model_selection import train_test_split\n",
    "from sklearn.preprocessing import StandardScaler, OneHotEncoder\n",
    "from sklearn.compose import ColumnTransformer\n",
    "from sklearn.pipeline import Pipeline\n",
    "from sklearn.linear_model import LogisticRegression\n",
    "from sklearn.tree import DecisionTreeClassifier\n",
    "from sklearn.metrics import accuracy_score, confusion_matrix, classification_report\n",
    "from sklearn.inspection import permutation_importance\n",
    "from sklearn.impute import SimpleImputer\n",
    "import joblib"
   ]
  },
  {
   "cell_type": "markdown",
   "metadata": {},
   "source": [
    "## Load Dataset"
   ]
  },
  {
   "cell_type": "code",
   "execution_count": 49,
   "metadata": {},
   "outputs": [
    {
     "data": {
      "text/html": [
       "<div>\n",
       "<style scoped>\n",
       "    .dataframe tbody tr th:only-of-type {\n",
       "        vertical-align: middle;\n",
       "    }\n",
       "\n",
       "    .dataframe tbody tr th {\n",
       "        vertical-align: top;\n",
       "    }\n",
       "\n",
       "    .dataframe thead th {\n",
       "        text-align: right;\n",
       "    }\n",
       "</style>\n",
       "<table border=\"1\" class=\"dataframe\">\n",
       "  <thead>\n",
       "    <tr style=\"text-align: right;\">\n",
       "      <th></th>\n",
       "      <th>EmployeeID</th>\n",
       "      <th>Age</th>\n",
       "      <th>Department</th>\n",
       "      <th>JobRole</th>\n",
       "      <th>MonthlyIncome</th>\n",
       "      <th>YearsAtCompany</th>\n",
       "      <th>OverTime</th>\n",
       "      <th>JobSatisfaction</th>\n",
       "      <th>EnvironmentSatisfaction</th>\n",
       "      <th>Attrition</th>\n",
       "    </tr>\n",
       "  </thead>\n",
       "  <tbody>\n",
       "    <tr>\n",
       "      <th>0</th>\n",
       "      <td>1</td>\n",
       "      <td>34</td>\n",
       "      <td>Sales</td>\n",
       "      <td>Sales Executive</td>\n",
       "      <td>5000</td>\n",
       "      <td>5</td>\n",
       "      <td>Yes</td>\n",
       "      <td>3</td>\n",
       "      <td>4</td>\n",
       "      <td>No</td>\n",
       "    </tr>\n",
       "    <tr>\n",
       "      <th>1</th>\n",
       "      <td>2</td>\n",
       "      <td>28</td>\n",
       "      <td>Research &amp; Development</td>\n",
       "      <td>Research Scientist</td>\n",
       "      <td>4500</td>\n",
       "      <td>2</td>\n",
       "      <td>No</td>\n",
       "      <td>4</td>\n",
       "      <td>3</td>\n",
       "      <td>No</td>\n",
       "    </tr>\n",
       "    <tr>\n",
       "      <th>2</th>\n",
       "      <td>3</td>\n",
       "      <td>41</td>\n",
       "      <td>Sales</td>\n",
       "      <td>Manager</td>\n",
       "      <td>9000</td>\n",
       "      <td>10</td>\n",
       "      <td>Yes</td>\n",
       "      <td>2</td>\n",
       "      <td>2</td>\n",
       "      <td>Yes</td>\n",
       "    </tr>\n",
       "    <tr>\n",
       "      <th>3</th>\n",
       "      <td>4</td>\n",
       "      <td>26</td>\n",
       "      <td>Human Resources</td>\n",
       "      <td>HR Specialist</td>\n",
       "      <td>4000</td>\n",
       "      <td>1</td>\n",
       "      <td>No</td>\n",
       "      <td>4</td>\n",
       "      <td>3</td>\n",
       "      <td>No</td>\n",
       "    </tr>\n",
       "    <tr>\n",
       "      <th>4</th>\n",
       "      <td>5</td>\n",
       "      <td>37</td>\n",
       "      <td>Research &amp; Development</td>\n",
       "      <td>Laboratory Technician</td>\n",
       "      <td>4200</td>\n",
       "      <td>6</td>\n",
       "      <td>Yes</td>\n",
       "      <td>3</td>\n",
       "      <td>2</td>\n",
       "      <td>Yes</td>\n",
       "    </tr>\n",
       "  </tbody>\n",
       "</table>\n",
       "</div>"
      ],
      "text/plain": [
       "   EmployeeID  Age              Department                JobRole  \\\n",
       "0           1   34                   Sales        Sales Executive   \n",
       "1           2   28  Research & Development     Research Scientist   \n",
       "2           3   41                   Sales                Manager   \n",
       "3           4   26         Human Resources          HR Specialist   \n",
       "4           5   37  Research & Development  Laboratory Technician   \n",
       "\n",
       "   MonthlyIncome  YearsAtCompany OverTime  JobSatisfaction  \\\n",
       "0           5000               5      Yes                3   \n",
       "1           4500               2       No                4   \n",
       "2           9000              10      Yes                2   \n",
       "3           4000               1       No                4   \n",
       "4           4200               6      Yes                3   \n",
       "\n",
       "   EnvironmentSatisfaction Attrition  \n",
       "0                        4        No  \n",
       "1                        3        No  \n",
       "2                        2       Yes  \n",
       "3                        3        No  \n",
       "4                        2       Yes  "
      ]
     },
     "execution_count": 49,
     "metadata": {},
     "output_type": "execute_result"
    }
   ],
   "source": [
    "# Load CSV (file has rows wrapped in quotes; perform a small cleanup to parse correctly)\n",
    "from io import StringIO\n",
    "with open('hr_attrition_synthetic.csv', 'r', encoding='utf-8') as f:\n",
    "    raw = f.read()\n",
    "# Strip surrounding quotes from each physical line and ignore empty lines\n",
    "clean_lines = [ln.strip().strip('\"') for ln in raw.splitlines() if ln.strip()!='']\n",
    "cleaned = '\\n'.join(clean_lines)\n",
    "df = pd.read_csv(StringIO(cleaned))\n",
    "df.head()"
   ]
  },
  {
   "cell_type": "markdown",
   "metadata": {},
   "source": [
    "## Exploratory Data Analysis (EDA)"
   ]
  },
  {
   "cell_type": "code",
   "execution_count": 50,
   "metadata": {},
   "outputs": [
    {
     "data": {
      "image/png": "[encoded data removed]",
      "text/plain": [
       "<Figure size 640x480 with 1 Axes>"
      ]
     },
     "metadata": {},
     "output_type": "display_data"
    },
    {
     "data": {
      "image/png": "[encoded data removed]",
      "text/plain": [
       "<Figure size 600x400 with 1 Axes>"
      ]
     },
     "metadata": {},
     "output_type": "display_data"
    },
    {
     "data": {
      "image/png": "[encoded data removed]",
      "text/plain": [
       "<Figure size 600x400 with 1 Axes>"
      ]
     },
     "metadata": {},
     "output_type": "display_data"
    },
    {
     "data": {
      "image/png": "[encoded data removed]",
      "text/plain": [
       "<Figure size 640x480 with 1 Axes>"
      ]
     },
     "metadata": {},
     "output_type": "display_data"
    }
   ],
   "source": [
    "# Attrition distribution\n",
    "# Robustly find an Attrition-like column name (handles variations like 'attrition', trailing spaces, etc.)\n",
    "attr_col = None\n",
    "for c in df.columns:\n",
    "    if c and c.strip().lower() == 'attrition':\n",
    "        attr_col = c\n",
    "        break\n",
    "if attr_col is None:\n",
    "    # try a fuzzy match for common variants\n",
    "    for c in df.columns:\n",
    "        if c and 'attrit' in c.strip().lower():\n",
    "            attr_col = c\n",
    "            break\n",
    "if attr_col is None:\n",
    "    raise ValueError(f\"Could not find an 'Attrition' column in df. Available columns: {list(df.columns)}\")\n",
    "\n",
    "sns.countplot(x=attr_col, data=df)\n",
    "plt.title('Attrition Distribution')\n",
    "plt.show()\n",
    "\n",
    "# Attrition by Department\n",
    "plt.figure(figsize=(6,4))\n",
    "dept_col = 'Department' if 'Department' in df.columns else None\n",
    "if dept_col is None:\n",
    "    dept_candidates = [c for c in df.columns if 'dept' in c.strip().lower()]\n",
    "    dept_col = dept_candidates[0] if dept_candidates else None\n",
    "if dept_col is None:\n",
    "    print('No Department-like column found; skipping department plot')\n",
    "else:\n",
    "    sns.countplot(x=dept_col, hue=attr_col, data=df)\n",
    "    plt.title('Attrition by Department')\n",
    "    plt.show()\n",
    "\n",
    "# Attrition vs OverTime\n",
    "plt.figure(figsize=(6,4))\n",
    "ot_col = 'OverTime' if 'OverTime' in df.columns else None\n",
    "if ot_col is None:\n",
    "    ot_candidates = [c for c in df.columns if 'overtime' in c.strip().lower()]\n",
    "    ot_col = ot_candidates[0] if ot_candidates else None\n",
    "if ot_col is None:\n",
    "    print('No OverTime-like column found; skipping OverTime plot')\n",
    "else:\n",
    "    sns.countplot(x=ot_col, hue=attr_col, data=df)\n",
    "    plt.title('Attrition vs OverTime')\n",
    "    plt.show()\n",
    "\n",
    "# Average MonthlyIncome by Attrition\n",
    "mi_col = 'MonthlyIncome' if 'MonthlyIncome' in df.columns else None\n",
    "if mi_col is None:\n",
    "    mi_candidates = [c for c in df.columns if 'income' in c.strip().lower() or 'monthly' in c.strip().lower()]\n",
    "    mi_col = mi_candidates[0] if mi_candidates else None\n",
    "if mi_col is None:\n",
    "    print('No MonthlyIncome-like column found; skipping income plot')\n",
    "else:\n",
    "    df.groupby(attr_col)[mi_col].mean().plot(kind='bar')\n",
    "    plt.title('Average Monthly Income by Attrition')\n",
    "    plt.show()"
   ]
  },
  {
   "cell_type": "markdown",
   "metadata": {},
   "source": [
    "## Preprocessing & Feature Selection"
   ]
  },
  {
   "cell_type": "code",
   "execution_count": 51,
   "metadata": {},
   "outputs": [],
   "source": [
    "target = 'Attrition'\n",
    "X = df.drop(columns=[target])\n",
    "y = (df[target] == 'Yes').astype(int)\n",
    "\n",
    "categorical_cols = X.select_dtypes(include=['object']).columns.tolist()\n",
    "numeric_cols = X.select_dtypes(include=[np.number]).columns.tolist()\n",
    "\n",
    "# Preprocessing pipelines\n",
    "numeric_transformer = Pipeline(steps=[('imputer', SimpleImputer(strategy='median')),\n",
    "                                      ('scaler', StandardScaler())])\n",
    "\n",
    "categorical_transformer = Pipeline(steps=[('imputer', SimpleImputer(strategy='most_frequent')),\n",
    "                                        ('onehot', OneHotEncoder(handle_unknown='ignore'))])\n",
    "\n",
    "preprocessor = ColumnTransformer(transformers=[\n",
    "    ('num', numeric_transformer, numeric_cols),\n",
    "    ('cat', categorical_transformer, categorical_cols)\n",
    "])"
   ]
  },
  {
   "cell_type": "markdown",
   "metadata": {},
   "source": [
    "## Train-Test Split"
   ]
  },
  {
   "cell_type": "code",
   "execution_count": 52,
   "metadata": {},
   "outputs": [],
   "source": [
    "X_train, X_test, y_train, y_test = train_test_split(X, y, test_size=0.25, stratify=y, random_state=42)"
   ]
  },
  {
   "cell_type": "markdown",
   "metadata": {},
   "source": [
    "## Train Models"
   ]
  },
  {
   "cell_type": "code",
   "execution_count": 53,
   "metadata": {},
   "outputs": [
    {
     "name": "stdout",
     "output_type": "stream",
     "text": [
      "Logistic Regression Accuracy: 1.0\n",
      "Decision Tree Accuracy: 1.0\n"
     ]
    }
   ],
   "source": [
    "# Logistic Regression Pipeline\n",
    "log_pipe = Pipeline(steps=[('pre', preprocessor), ('clf', LogisticRegression(max_iter=1000))])\n",
    "log_pipe.fit(X_train, y_train)\n",
    "y_pred_log = log_pipe.predict(X_test)\n",
    "acc_log = accuracy_score(y_test, y_pred_log)\n",
    "print('Logistic Regression Accuracy:', acc_log)\n",
    "\n",
    "# Decision Tree Pipeline\n",
    "tree_pipe = Pipeline(steps=[('pre', preprocessor), ('clf', DecisionTreeClassifier(max_depth=6, random_state=42))])\n",
    "tree_pipe.fit(X_train, y_train)\n",
    "y_pred_tree = tree_pipe.predict(X_test)\n",
    "acc_tree = accuracy_score(y_test, y_pred_tree)\n",
    "print('Decision Tree Accuracy:', acc_tree)"
   ]
  },
  {
   "cell_type": "markdown",
   "metadata": {},
   "source": [
    "## Model Evaluation"
   ]
  },
  {
   "cell_type": "code",
   "execution_count": 54,
   "metadata": {},
   "outputs": [
    {
     "name": "stdout",
     "output_type": "stream",
     "text": [
      "Logistic Regression Confusion Matrix:\n",
      " [[3 0]\n",
      " [0 2]]\n",
      "Decision Tree Confusion Matrix:\n",
      " [[3 0]\n",
      " [0 2]]\n",
      "Decision Tree Classification Report:\n",
      "               precision    recall  f1-score   support\n",
      "\n",
      "           0       1.00      1.00      1.00         3\n",
      "           1       1.00      1.00      1.00         2\n",
      "\n",
      "    accuracy                           1.00         5\n",
      "   macro avg       1.00      1.00      1.00         5\n",
      "weighted avg       1.00      1.00      1.00         5\n",
      "\n"
     ]
    }
   ],
   "source": [
    "# Confusion Matrices\n",
    "cm_log = confusion_matrix(y_test, y_pred_log)\n",
    "cm_tree = confusion_matrix(y_test, y_pred_tree)\n",
    "\n",
    "print('Logistic Regression Confusion Matrix:\\n', cm_log)\n",
    "print('Decision Tree Confusion Matrix:\\n', cm_tree)\n",
    "\n",
    "print('Decision Tree Classification Report:\\n', classification_report(y_test, y_pred_tree))"
   ]
  },
  {
   "cell_type": "markdown",
   "metadata": {},
   "source": [
    "## Feature Importance (Permutation Importance)"
   ]
  },
  {
   "cell_type": "code",
   "execution_count": 55,
   "metadata": {},
   "outputs": [
    {
     "name": "stdout",
     "output_type": "stream",
     "text": [
      "Top Features:\n",
      "OverTime                   0.4\n",
      "EmployeeID                 0.0\n",
      "Age                        0.0\n",
      "JobRole                    0.0\n",
      "Department                 0.0\n",
      "MonthlyIncome              0.0\n",
      "YearsAtCompany             0.0\n",
      "JobSatisfaction            0.0\n",
      "EnvironmentSatisfaction    0.0\n",
      "dtype: float64\n"
     ]
    }
   ],
   "source": [
    "r = permutation_importance(tree_pipe, X_test, y_test, n_repeats=10, random_state=42)\n",
    "importances = pd.Series(r.importances_mean, index=X.columns).sort_values(ascending=False)\n",
    "print('Top Features:')\n",
    "print(importances.head(10))"
   ]
  },
  {
   "cell_type": "markdown",
   "metadata": {},
   "source": [
    "## Save Models"
   ]
  },
  {
   "cell_type": "code",
   "execution_count": 56,
   "metadata": {},
   "outputs": [
    {
     "data": {
      "text/plain": [
       "['tree_pipeline.joblib']"
      ]
     },
     "execution_count": 56,
     "metadata": {},
     "output_type": "execute_result"
    }
   ],
   "source": [
    "joblib.dump(log_pipe, 'logistic_pipeline.joblib')\n",
    "joblib.dump(tree_pipe, 'tree_pipeline.joblib')"
   ]
  },
  {
   "cell_type": "markdown",
   "metadata": {},
   "source": [
    "## Save Evaluation Summary"
   ]
  },
  {
   "cell_type": "code",
   "execution_count": 57,
   "metadata": {},
   "outputs": [],
   "source": [
    "with open('evaluation_summary.txt', 'w') as f:\n",
    "    f.write(f'Logistic Regression Accuracy: {acc_log}\\n')\n",
    "    f.write(f'Decision Tree Accuracy: {acc_tree}\\n')\n",
    "    f.write('Decision Tree Classification Report:\\n')\n",
    "    f.write(classification_report(y_test, y_pred_tree))"
   ]
  }
 ],
 "metadata": {
  "kernelspec": {
   "display_name": "Python 3",
   "language": "python",
   "name": "python3"
  },
  "language_info": {
   "codemirror_mode": {
    "name": "ipython",
    "version": 3
   },
   "file_extension": ".py",
   "mimetype": "text/x-python",
   "name": "python",
   "nbconvert_exporter": "python",
   "pygments_lexer": "ipython3",
   "version": "3.12.1"
  }
 },
 "nbformat": 4,
 "nbformat_minor": 5
}
