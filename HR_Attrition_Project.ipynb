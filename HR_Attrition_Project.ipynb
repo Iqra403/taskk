{
 "cells": [
  {
   "cell_type": "markdown",
   "metadata": {},
   "source": [
    "# HR Analytics: Employee Attrition Prediction\n",
    "\n",
    "This notebook performs EDA, builds classification models (Logistic Regression & Decision Tree), evaluates performance, and visualizes feature importance for HR attrition data."
   ]
  },
  {
   "cell_type": "code",
   "metadata": {},
   "source": [
    "# Import Libraries\n",
    "import pandas as pd\n",
    "import numpy as np\n",
    "import matplotlib.pyplot as plt\n",
    "import seaborn as sns\n",
    "from sklearn.model_selection import train_test_split\n",
    "from sklearn.preprocessing import StandardScaler, OneHotEncoder\n",
    "from sklearn.compose import ColumnTransformer\n",
    "from sklearn.pipeline import Pipeline\n",
    "from sklearn.linear_model import LogisticRegression\n",
    "from sklearn.tree import DecisionTreeClassifier\n",
    "from sklearn.metrics import accuracy_score, confusion_matrix, classification_report\n",
    "from sklearn.inspection import permutation_importance\n",
    "import joblib"
   ]
  },
  {
   "cell_type": "markdown",
   "metadata": {},
   "source": [
    "## Load Dataset"
   ]
  },
  {
   "cell_type": "code",
   "metadata": {},
   "source": [
    "# Load CSV\n",
    "df = pd.read_csv('hr_attrition_synthetic.csv')\n",
    "df.head()"
   ]
  },
  {
   "cell_type": "markdown",
   "metadata": {},
   "source": [
    "## Exploratory Data Analysis (EDA)"
   ]
  },
  {
   "cell_type": "code",
   "metadata": {},
   "source": [
    "# Attrition distribution\n",
    "sns.countplot(x='Attrition', data=df)\n",
    "plt.title('Attrition Distribution')\n",
    "plt.show()\n",
    "\n",
    "# Attrition by Department\n",
    "plt.figure(figsize=(6,4))\n",
    "sns.countplot(x='Department', hue='Attrition', data=df)\n",
    "plt.title('Attrition by Department')\n",
    "plt.show()\n",
    "\n",
    "# Attrition vs OverTime\n",
    "plt.figure(figsize=(6,4))\n",
    "sns.countplot(x='OverTime', hue='Attrition', data=df)\n",
    "plt.title('Attrition vs OverTime')\n",
    "plt.show()\n",
    "\n",
    "# Average MonthlyIncome by Attrition\n",
    "df.groupby('Attrition')['MonthlyIncome'].mean().plot(kind='bar')\n",
    "plt.title('Average Monthly Income by Attrition')\n",
    "plt.show()"
   ]
  },
  {
   "cell_type": "markdown",
   "metadata": {},
   "source": [
    "## Preprocessing & Feature Selection"
   ]
  },
  {
   "cell_type": "code",
   "metadata": {},
   "source": [
    "target = 'Attrition'\n",
    "X = df.drop(columns=[target])\n",
    "y = (df[target] == 'Yes').astype(int)\n",
    "\n",
    "categorical_cols = X.select_dtypes(include=['object']).columns.tolist()\n",
    "numeric_cols = X.select_dtypes(include=[np.number]).columns.tolist()\n",
    "\n",
    "# Preprocessing pipelines\n",
    "numeric_transformer = Pipeline(steps=[('imputer', SimpleImputer(strategy='median')),\n",
    "                                      ('scaler', StandardScaler())])\n",
    "\n",
    "categorical_transformer = Pipeline(steps=[('imputer', SimpleImputer(strategy='most_frequent')),\n",
    "                                        ('onehot', OneHotEncoder(handle_unknown='ignore'))])\n",
    "\n",
    "preprocessor = ColumnTransformer(transformers=[\n",
    "    ('num', numeric_transformer, numeric_cols),\n",
    "    ('cat', categorical_transformer, categorical_cols)\n",
    "])"
   ]
  },
  {
   "cell_type": "markdown",
   "metadata": {},
   "source": [
    "## Train-Test Split"
   ]
  },
  {
   "cell_type": "code",
   "metadata": {},
   "source": [
    "X_train, X_test, y_train, y_test = train_test_split(X, y, test_size=0.25, stratify=y, random_state=42)"
   ]
  },
  {
   "cell_type": "markdown",
   "metadata": {},
   "source": [
    "## Train Models"
   ]
  },
  {
   "cell_type": "code",
   "metadata": {},
   "source": [
    "# Logistic Regression Pipeline\n",
    "log_pipe = Pipeline(steps=[('pre', preprocessor), ('clf', LogisticRegression(max_iter=1000))])\n",
    "log_pipe.fit(X_train, y_train)\n",
    "y_pred_log = log_pipe.predict(X_test)\n",
    "acc_log = accuracy_score(y_test, y_pred_log)\n",
    "print('Logistic Regression Accuracy:', acc_log)\n",
    "\n",
    "# Decision Tree Pipeline\n",
    "tree_pipe = Pipeline(steps=[('pre', preprocessor), ('clf', DecisionTreeClassifier(max_depth=6, random_state=42))])\n",
    "tree_pipe.fit(X_train, y_train)\n",
    "y_pred_tree = tree_pipe.predict(X_test)\n",
    "acc_tree = accuracy_score(y_test, y_pred_tree)\n",
    "print('Decision Tree Accuracy:', acc_tree)"
   ]
  },
  {
   "cell_type": "markdown",
   "metadata": {},
   "source": [
    "## Model Evaluation"
   ]
  },
  {
   "cell_type": "code",
   "metadata": {},
   "source": [
    "# Confusion Matrices\n",
    "cm_log = confusion_matrix(y_test, y_pred_log)\n",
    "cm_tree = confusion_matrix(y_test, y_pred_tree)\n",
    "\n",
    "print('Logistic Regression Confusion Matrix:\\n', cm_log)\n",
    "print('Decision Tree Confusion Matrix:\\n', cm_tree)\n",
    "\n",
    "print('Decision Tree Classification Report:\\n', classification_report(y_test, y_pred_tree))"
   ]
  },
  {
   "cell_type": "markdown",
   "metadata": {},
   "source": [
    "## Feature Importance (Permutation Importance)"
   ]
  },
  {
   "cell_type": "code",
   "metadata": {},
   "source": [
    "r = permutation_importance(tree_pipe, X_test, y_test, n_repeats=10, random_state=42)\n",
    "importances = pd.Series(r.importances_mean, index=X.columns).sort_values(ascending=False)\n",
    "print('Top Features:')\n",
    "print(importances.head(10))"
   ]
  },
  {
   "cell_type": "markdown",
   "metadata": {},
   "source": [
    "## Save Models"
   ]
  },
  {
   "cell_type": "code",
   "metadata": {},
   "source": [
    "joblib.dump(log_pipe, 'logistic_pipeline.joblib')\n",
    "joblib.dump(tree_pipe, 'tree_pipeline.joblib')"
   ]
  },
  {
   "cell_type": "markdown",
   "metadata": {},
   "source": [
    "## Save Evaluation Summary"
   ]
  },
  {
   "cell_type": "code",
   "metadata": {},
   "source": [
    "with open('evaluation_summary.txt', 'w') as f:\n",
    "    f.write(f'Logistic Regression Accuracy: {acc_log}\\n')\n",
    "    f.write(f'Decision Tree Accuracy: {acc_tree}\\n')\n",
    "    f.write('Decision Tree Classification Report:\\n')\n",
    "    f.write(classification_report(y_test, y_pred_tree))"
   ]
  }
 ],
 "metadata": {
  "kernelspec": {
   "display_name": "Python 3",
   "language": "python",
   "name": "python3"
  },
  "language_info": {
   "name": "python",
   "version": "3.10"
  }
 },
 "nbformat": 4,
 "nbformat_minor": 5
}
